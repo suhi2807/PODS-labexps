{
  "nbformat": 4,
  "nbformat_minor": 0,
  "metadata": {
    "colab": {
      "provenance": []
    },
    "kernelspec": {
      "name": "python3",
      "display_name": "Python 3"
    },
    "language_info": {
      "name": "python"
    }
  },
  "cells": [
    {
      "cell_type": "code",
      "execution_count": null,
      "metadata": {
        "colab": {
          "base_uri": "https://localhost:8080/"
        },
        "id": "CVk1MYm0T5ye",
        "outputId": "23cba558-0428-4dda-da79-a8efbc534865"
      },
      "outputs": [
        {
          "output_type": "stream",
          "name": "stdout",
          "text": [
            "{'cars': ['sumo', 'aadi', 'ford'], 'rate': [300000, 8000000, 344443]}\n"
          ]
        }
      ],
      "source": [
        "import pandas\n",
        "data = {\n",
        "    'cars': [\"sumo\",\"aadi\",\"ford\"],\n",
        "    'rate':[300000,8000000,344443]\n",
        "}\n",
        "mydata = pandas.DataFrame(data)\n",
        "print(data)\n"
      ]
    },
    {
      "cell_type": "code",
      "source": [
        "import pandas as pd\n",
        "data = [10,20,30,40,50,60]\n",
        "serdata=pd.Series(data)\n",
        "print(serdata)"
      ],
      "metadata": {
        "colab": {
          "base_uri": "https://localhost:8080/"
        },
        "id": "Pf1HTQLKYq9Q",
        "outputId": "f07437b0-264b-4c13-d070-d6bdf9c2d0a5"
      },
      "execution_count": null,
      "outputs": [
        {
          "output_type": "stream",
          "name": "stdout",
          "text": [
            "0    10\n",
            "1    20\n",
            "2    30\n",
            "3    40\n",
            "4    50\n",
            "5    60\n",
            "dtype: int64\n"
          ]
        }
      ]
    },
    {
      "cell_type": "code",
      "source": [
        "import pandas as pd\n",
        "data = [10,20,30,40,50]\n",
        "index_labels = ['a','b','c','d','e']\n",
        "series = pd.Series(data,index=index_labels)\n",
        "print(series)"
      ],
      "metadata": {
        "colab": {
          "base_uri": "https://localhost:8080/"
        },
        "id": "40g53_19ZBnX",
        "outputId": "c04820b7-c958-4023-b741-aea83e35646e"
      },
      "execution_count": null,
      "outputs": [
        {
          "output_type": "stream",
          "name": "stdout",
          "text": [
            "a    10\n",
            "b    20\n",
            "c    30\n",
            "d    40\n",
            "e    50\n",
            "dtype: int64\n"
          ]
        }
      ]
    },
    {
      "cell_type": "code",
      "source": [
        "import pandas as pd\n",
        "\n",
        "data = [10, 20, 30, 40, 50]\n",
        "series = pd.Series(data)\n",
        "print(\"Series Representation:\\n\",series)\n",
        "\n",
        "array_representation = series.values\n",
        "index_object = series.index\n",
        "print(\"Array Representation:\", array_representation)"
      ],
      "metadata": {
        "colab": {
          "base_uri": "https://localhost:8080/"
        },
        "id": "Ea8k8zfdZ24B",
        "outputId": "6cfa5712-847c-4e10-825b-85fc95228e36"
      },
      "execution_count": null,
      "outputs": [
        {
          "output_type": "stream",
          "name": "stdout",
          "text": [
            "Series Representation:\n",
            " 0    10\n",
            "1    20\n",
            "2    30\n",
            "3    40\n",
            "4    50\n",
            "dtype: int64\n",
            "Array Representation: [10 20 30 40 50]\n"
          ]
        }
      ]
    },
    {
      "cell_type": "code",
      "source": [
        "import pandas as pd\n",
        "data = [10,20,30,40,50]\n",
        "index_labels = ['a','b','c','d','e']\n",
        "series = pd.Series(data,index=index_labels)\n",
        "print(series)"
      ],
      "metadata": {
        "colab": {
          "base_uri": "https://localhost:8080/"
        },
        "id": "4oMxErSsaVlR",
        "outputId": "ce3f82f6-f8e0-47dc-c36d-52b90b517e06"
      },
      "execution_count": null,
      "outputs": [
        {
          "output_type": "stream",
          "name": "stdout",
          "text": [
            "a    10\n",
            "b    20\n",
            "c    30\n",
            "d    40\n",
            "e    50\n",
            "dtype: int64\n"
          ]
        }
      ]
    },
    {
      "cell_type": "code",
      "source": [
        "print(series['b'])"
      ],
      "metadata": {
        "colab": {
          "base_uri": "https://localhost:8080/"
        },
        "id": "jxN5lxOzbj55",
        "outputId": "0ee45019-e677-4ff5-80a6-62d6f1b44f9c"
      },
      "execution_count": null,
      "outputs": [
        {
          "output_type": "stream",
          "name": "stdout",
          "text": [
            "20\n"
          ]
        }
      ]
    },
    {
      "cell_type": "code",
      "source": [
        "print(series[['b']])"
      ],
      "metadata": {
        "colab": {
          "base_uri": "https://localhost:8080/"
        },
        "id": "xKAr0q2dbo5Y",
        "outputId": "349659c3-eb8e-48e8-c46d-90171241be90"
      },
      "execution_count": null,
      "outputs": [
        {
          "output_type": "stream",
          "name": "stdout",
          "text": [
            "b    20\n",
            "dtype: int64\n"
          ]
        }
      ]
    },
    {
      "cell_type": "code",
      "source": [
        "print(series[['b','c','d']])"
      ],
      "metadata": {
        "colab": {
          "base_uri": "https://localhost:8080/"
        },
        "id": "uBTPYR_fbtUQ",
        "outputId": "12d9d729-89d8-45c1-f3f0-42fe69642369"
      },
      "execution_count": null,
      "outputs": [
        {
          "output_type": "stream",
          "name": "stdout",
          "text": [
            "b    20\n",
            "c    30\n",
            "d    40\n",
            "dtype: int64\n"
          ]
        }
      ]
    },
    {
      "cell_type": "code",
      "source": [
        "gt = series>25\n",
        "print(gt)"
      ],
      "metadata": {
        "colab": {
          "base_uri": "https://localhost:8080/"
        },
        "id": "E9sCAgB5cFg_",
        "outputId": "c0f04585-fd9e-42f8-d6b0-60d2c48b769d"
      },
      "execution_count": null,
      "outputs": [
        {
          "output_type": "stream",
          "name": "stdout",
          "text": [
            "a    False\n",
            "b    False\n",
            "c     True\n",
            "d     True\n",
            "e     True\n",
            "dtype: bool\n"
          ]
        }
      ]
    },
    {
      "cell_type": "code",
      "source": [
        "newser=series[series>25]\n",
        "print(newser)"
      ],
      "metadata": {
        "colab": {
          "base_uri": "https://localhost:8080/"
        },
        "id": "wOgP1eiXcK_g",
        "outputId": "7ac4b93e-0877-4afb-a263-e2db2fcd38fc"
      },
      "execution_count": null,
      "outputs": [
        {
          "output_type": "stream",
          "name": "stdout",
          "text": [
            "c    30\n",
            "d    40\n",
            "e    50\n",
            "dtype: int64\n"
          ]
        }
      ]
    },
    {
      "cell_type": "code",
      "source": [
        "mulser=series*2\n",
        "print(mulser)"
      ],
      "metadata": {
        "colab": {
          "base_uri": "https://localhost:8080/"
        },
        "id": "4MRSuU5-cd1w",
        "outputId": "aa482e5d-674b-407b-e634-60d50945ea7e"
      },
      "execution_count": null,
      "outputs": [
        {
          "output_type": "stream",
          "name": "stdout",
          "text": [
            "a     20\n",
            "b     40\n",
            "c     60\n",
            "d     80\n",
            "e    100\n",
            "dtype: int64\n"
          ]
        }
      ]
    },
    {
      "cell_type": "code",
      "source": [
        "import numpy as np\n",
        "sqrt = np.sqrt(series)\n",
        "print(sqrt)"
      ],
      "metadata": {
        "colab": {
          "base_uri": "https://localhost:8080/"
        },
        "id": "LFqkvN2ucl0X",
        "outputId": "a3c43653-03fd-467e-8d25-4911d3041792"
      },
      "execution_count": null,
      "outputs": [
        {
          "output_type": "stream",
          "name": "stdout",
          "text": [
            "a    3.162278\n",
            "b    4.472136\n",
            "c    5.477226\n",
            "d    6.324555\n",
            "e    7.071068\n",
            "dtype: float64\n"
          ]
        }
      ]
    },
    {
      "cell_type": "code",
      "source": [
        "population_dict = {'California': 38332521,\n",
        "'Texas': 26448193,\n",
        "'New York': 19651127,\n",
        "'Florida': 19552860,\n",
        "'Illinois': 12882135}\n",
        "population = pd.Series(population_dict)\n",
        "print(population)"
      ],
      "metadata": {
        "colab": {
          "base_uri": "https://localhost:8080/"
        },
        "id": "Ivh4JBhgc644",
        "outputId": "f13efba2-f4c5-4a82-b275-7d61c118f5bf"
      },
      "execution_count": null,
      "outputs": [
        {
          "output_type": "stream",
          "name": "stdout",
          "text": [
            "California    38332521\n",
            "Texas         26448193\n",
            "New York      19651127\n",
            "Florida       19552860\n",
            "Illinois      12882135\n",
            "dtype: int64\n"
          ]
        }
      ]
    },
    {
      "cell_type": "code",
      "source": [
        "print('California' in population)"
      ],
      "metadata": {
        "colab": {
          "base_uri": "https://localhost:8080/"
        },
        "id": "7HdypTCkdHCY",
        "outputId": "dd0e4691-01ae-4cec-f032-3e263cafa451"
      },
      "execution_count": null,
      "outputs": [
        {
          "output_type": "stream",
          "name": "stdout",
          "text": [
            "True\n"
          ]
        }
      ]
    },
    {
      "cell_type": "code",
      "source": [
        "dat = [10,np.nan,30,np.nan,50]\n",
        "ind_lab = ['a','b','c','d','e']\n",
        "series_with_nan = pd.Series(dat,index=ind_lab)\n",
        "print(series_with_nan)"
      ],
      "metadata": {
        "colab": {
          "base_uri": "https://localhost:8080/"
        },
        "id": "gNyymOQQdBeI",
        "outputId": "439157fe-1716-4789-d089-36cab5c07d32"
      },
      "execution_count": null,
      "outputs": [
        {
          "output_type": "stream",
          "name": "stdout",
          "text": [
            "a    10.0\n",
            "b     NaN\n",
            "c    30.0\n",
            "d     NaN\n",
            "e    50.0\n",
            "dtype: float64\n"
          ]
        }
      ]
    },
    {
      "cell_type": "code",
      "source": [
        "print(series_with_nan.isnull())"
      ],
      "metadata": {
        "colab": {
          "base_uri": "https://localhost:8080/"
        },
        "id": "G21GA-GreIE4",
        "outputId": "cb06afb8-86cf-4b56-b507-9045defbd13b"
      },
      "execution_count": null,
      "outputs": [
        {
          "output_type": "stream",
          "name": "stdout",
          "text": [
            "a    False\n",
            "b     True\n",
            "c    False\n",
            "d     True\n",
            "e    False\n",
            "dtype: bool\n"
          ]
        }
      ]
    },
    {
      "cell_type": "code",
      "source": [
        "print(series_with_nan.notnull())"
      ],
      "metadata": {
        "colab": {
          "base_uri": "https://localhost:8080/"
        },
        "id": "imkMM10dezH4",
        "outputId": "5cbff3e7-4800-4111-a6e2-de32ed1a8188"
      },
      "execution_count": null,
      "outputs": [
        {
          "output_type": "stream",
          "name": "stdout",
          "text": [
            "a     True\n",
            "b    False\n",
            "c     True\n",
            "d    False\n",
            "e     True\n",
            "dtype: bool\n"
          ]
        }
      ]
    },
    {
      "cell_type": "code",
      "source": [
        "import pandas as pd\n",
        "\n",
        "male_population_dict = {\n",
        "    'California': 19000000,\n",
        "    'Texas': 13000000,\n",
        "    'New York': 9500000,\n",
        "    'Florida': 9600000,\n",
        "    'Illinois': 6300000\n",
        "}\n",
        "\n",
        "female_population_dict = {\n",
        "    'California': 19332521,\n",
        "    'Texas': 13448193,\n",
        "    'New York': 10151127,\n",
        "    'Florida': 9952860,\n",
        "    'Illinois': 6582135\n",
        "}\n",
        "\n",
        "\n",
        "male_population = pd.Series(male_population_dict)\n",
        "female_population = pd.Series(female_population_dict)\n",
        "\n",
        "total_population = male_population + female_population\n",
        "\n",
        "print(\"\\nTotal Population:\\n\", total_population)\n",
        "\n",
        "\n",
        "total_population.name = 'population'\n",
        "total_population.index.name = 'state'\n",
        "\n",
        "print(\"\\nNamed Total Population Series:\\n\", total_population)\n"
      ],
      "metadata": {
        "colab": {
          "base_uri": "https://localhost:8080/"
        },
        "id": "RJvPn0pEe5bA",
        "outputId": "8ae56baf-3f7d-4d5f-af81-bf250890125d"
      },
      "execution_count": null,
      "outputs": [
        {
          "output_type": "stream",
          "name": "stdout",
          "text": [
            "\n",
            "Total Population:\n",
            " California    38332521\n",
            "Texas         26448193\n",
            "New York      19651127\n",
            "Florida       19552860\n",
            "Illinois      12882135\n",
            "dtype: int64\n",
            "\n",
            "Named Total Population Series:\n",
            " state\n",
            "California    38332521\n",
            "Texas         26448193\n",
            "New York      19651127\n",
            "Florida       19552860\n",
            "Illinois      12882135\n",
            "Name: population, dtype: int64\n"
          ]
        }
      ]
    }
  ]
}