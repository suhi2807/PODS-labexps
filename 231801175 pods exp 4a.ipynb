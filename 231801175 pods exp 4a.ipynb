{
 "cells": [
  {
   "cell_type": "code",
   "execution_count": 1,
   "id": "5a59ff69",
   "metadata": {},
   "outputs": [
    {
     "data": {
      "text/html": [
       "<div>\n",
       "<style scoped>\n",
       "    .dataframe tbody tr th:only-of-type {\n",
       "        vertical-align: middle;\n",
       "    }\n",
       "\n",
       "    .dataframe tbody tr th {\n",
       "        vertical-align: top;\n",
       "    }\n",
       "\n",
       "    .dataframe thead th {\n",
       "        text-align: right;\n",
       "    }\n",
       "</style>\n",
       "<table border=\"1\" class=\"dataframe\">\n",
       "  <thead>\n",
       "    <tr style=\"text-align: right;\">\n",
       "      <th></th>\n",
       "      <th>Id</th>\n",
       "      <th>ProductId</th>\n",
       "      <th>UserId</th>\n",
       "      <th>ProfileName</th>\n",
       "      <th>HelpfulnessNumerator</th>\n",
       "      <th>HelpfulnessDenominator</th>\n",
       "      <th>Score</th>\n",
       "      <th>Time</th>\n",
       "      <th>Summary</th>\n",
       "      <th>Text</th>\n",
       "    </tr>\n",
       "  </thead>\n",
       "  <tbody>\n",
       "    <tr>\n",
       "      <th>0</th>\n",
       "      <td>1</td>\n",
       "      <td>B001E4KFG0</td>\n",
       "      <td>A3SGXH7AUHU8GW</td>\n",
       "      <td>delmartian</td>\n",
       "      <td>1</td>\n",
       "      <td>1</td>\n",
       "      <td>5</td>\n",
       "      <td>1303862400</td>\n",
       "      <td>Good Quality Dog Food</td>\n",
       "      <td>I have bought several of the Vitality canned d...</td>\n",
       "    </tr>\n",
       "    <tr>\n",
       "      <th>1</th>\n",
       "      <td>2</td>\n",
       "      <td>B00813GRG4</td>\n",
       "      <td>A1D87F6ZCVE5NK</td>\n",
       "      <td>dll pa</td>\n",
       "      <td>0</td>\n",
       "      <td>0</td>\n",
       "      <td>1</td>\n",
       "      <td>1346976000</td>\n",
       "      <td>Not as Advertised</td>\n",
       "      <td>Product arrived labeled as Jumbo Salted Peanut...</td>\n",
       "    </tr>\n",
       "    <tr>\n",
       "      <th>2</th>\n",
       "      <td>3</td>\n",
       "      <td>B000LQOCH0</td>\n",
       "      <td>ABXLMWJIXXAIN</td>\n",
       "      <td>Natalia Corres \"Natalia Corres\"</td>\n",
       "      <td>1</td>\n",
       "      <td>1</td>\n",
       "      <td>4</td>\n",
       "      <td>1219017600</td>\n",
       "      <td>\"Delight\" says it all</td>\n",
       "      <td>This is a confection that has been around a fe...</td>\n",
       "    </tr>\n",
       "    <tr>\n",
       "      <th>3</th>\n",
       "      <td>4</td>\n",
       "      <td>B000UA0QIQ</td>\n",
       "      <td>A395BORC6FGVXV</td>\n",
       "      <td>Karl</td>\n",
       "      <td>3</td>\n",
       "      <td>3</td>\n",
       "      <td>2</td>\n",
       "      <td>1307923200</td>\n",
       "      <td>Cough Medicine</td>\n",
       "      <td>If you are looking for the secret ingredient i...</td>\n",
       "    </tr>\n",
       "    <tr>\n",
       "      <th>4</th>\n",
       "      <td>5</td>\n",
       "      <td>B006K2ZZ7K</td>\n",
       "      <td>A1UQRSCLF8GW1T</td>\n",
       "      <td>Michael D. Bigham \"M. Wassir\"</td>\n",
       "      <td>0</td>\n",
       "      <td>0</td>\n",
       "      <td>5</td>\n",
       "      <td>1350777600</td>\n",
       "      <td>Great taffy</td>\n",
       "      <td>Great taffy at a great price.  There was a wid...</td>\n",
       "    </tr>\n",
       "  </tbody>\n",
       "</table>\n",
       "</div>"
      ],
      "text/plain": [
       "   Id   ProductId          UserId                      ProfileName  \\\n",
       "0   1  B001E4KFG0  A3SGXH7AUHU8GW                       delmartian   \n",
       "1   2  B00813GRG4  A1D87F6ZCVE5NK                           dll pa   \n",
       "2   3  B000LQOCH0   ABXLMWJIXXAIN  Natalia Corres \"Natalia Corres\"   \n",
       "3   4  B000UA0QIQ  A395BORC6FGVXV                             Karl   \n",
       "4   5  B006K2ZZ7K  A1UQRSCLF8GW1T    Michael D. Bigham \"M. Wassir\"   \n",
       "\n",
       "   HelpfulnessNumerator  HelpfulnessDenominator  Score        Time  \\\n",
       "0                     1                       1      5  1303862400   \n",
       "1                     0                       0      1  1346976000   \n",
       "2                     1                       1      4  1219017600   \n",
       "3                     3                       3      2  1307923200   \n",
       "4                     0                       0      5  1350777600   \n",
       "\n",
       "                 Summary                                               Text  \n",
       "0  Good Quality Dog Food  I have bought several of the Vitality canned d...  \n",
       "1      Not as Advertised  Product arrived labeled as Jumbo Salted Peanut...  \n",
       "2  \"Delight\" says it all  This is a confection that has been around a fe...  \n",
       "3         Cough Medicine  If you are looking for the secret ingredient i...  \n",
       "4            Great taffy  Great taffy at a great price.  There was a wid...  "
      ]
     },
     "execution_count": 1,
     "metadata": {},
     "output_type": "execute_result"
    }
   ],
   "source": [
    "import pandas as pd\n",
    "df=pd.read_csv(r'C:\\Users\\Tcs\\Downloads\\Reviews.csv')\n",
    "df.head(5)"
   ]
  },
  {
   "cell_type": "code",
   "execution_count": 2,
   "id": "d2160542",
   "metadata": {},
   "outputs": [],
   "source": [
    "import nltk"
   ]
  },
  {
   "cell_type": "code",
   "execution_count": 3,
   "id": "3bd2925a",
   "metadata": {},
   "outputs": [
    {
     "name": "stderr",
     "output_type": "stream",
     "text": [
      "[nltk_data] Downloading package punkt to\n",
      "[nltk_data]     C:\\Users\\Tcs\\AppData\\Roaming\\nltk_data...\n",
      "[nltk_data]   Package punkt is already up-to-date!\n",
      "[nltk_data] Downloading package stopwords to\n",
      "[nltk_data]     C:\\Users\\Tcs\\AppData\\Roaming\\nltk_data...\n",
      "[nltk_data]   Package stopwords is already up-to-date!\n"
     ]
    },
    {
     "data": {
      "text/plain": [
       "True"
      ]
     },
     "execution_count": 3,
     "metadata": {},
     "output_type": "execute_result"
    }
   ],
   "source": [
    "nltk.download('punkt')\n",
    "nltk.download('stopwords')\n"
   ]
  },
  {
   "cell_type": "code",
   "execution_count": 4,
   "id": "bfa020fe",
   "metadata": {},
   "outputs": [
    {
     "name": "stdout",
     "output_type": "stream",
     "text": [
      "0    I have bought several of the Vitality canned d...\n",
      "1    Product arrived labeled as Jumbo Salted Peanut...\n",
      "2    This is a confection that has been around a fe...\n",
      "3    If you are looking for the secret ingredient i...\n",
      "4    Great taffy at a great price.  There was a wid...\n",
      "Name: Text, dtype: object\n"
     ]
    }
   ],
   "source": [
    "\n",
    "reviews = df['Text']\n",
    "\n",
    "reviews = reviews.dropna()\n",
    "\n",
    "\n",
    "reviews = reviews[:10000]\n",
    "\n",
    "print(reviews.head())"
   ]
  },
  {
   "cell_type": "code",
   "execution_count": 5,
   "id": "50b403d4",
   "metadata": {},
   "outputs": [
    {
     "name": "stdout",
     "output_type": "stream",
     "text": [
      "Sample stopwords: ['has', \"shouldn't\", 'when', 'if', 'did', 'ain', \"aren't\", 'from', \"doesn't\", 'than']\n"
     ]
    },
    {
     "name": "stderr",
     "output_type": "stream",
     "text": [
      "[nltk_data] Downloading package stopwords to\n",
      "[nltk_data]     C:\\Users\\Tcs\\AppData\\Roaming\\nltk_data...\n",
      "[nltk_data]   Package stopwords is already up-to-date!\n"
     ]
    }
   ],
   "source": [
    "import nltk\n",
    "from nltk.corpus import stopwords\n",
    "nltk.download('stopwords')\n",
    "stop_words = set(stopwords.words('english'))\n",
    "print(\"Sample stopwords:\", list(stop_words)[:10])"
   ]
  },
  {
   "cell_type": "code",
   "execution_count": 6,
   "id": "1f99518d",
   "metadata": {},
   "outputs": [],
   "source": [
    "import re \n",
    "from nltk.tokenize import word_tokenize\n",
    "\n"
   ]
  },
  {
   "cell_type": "code",
   "execution_count": 7,
   "id": "6ea1111c",
   "metadata": {},
   "outputs": [
    {
     "name": "stdout",
     "output_type": "stream",
     "text": [
      "0    bought several vitality canned dog food produc...\n",
      "1    product arrived labeled jumbo salted peanutsth...\n",
      "2    confection around centuries light pillowy citr...\n",
      "3    looking secret ingredient robitussin believe f...\n",
      "4    great taffy great price wide assortment yummy ...\n",
      "Name: Text, dtype: object\n"
     ]
    }
   ],
   "source": [
    "def preprocess_text(text):\n",
    "    text=text.lower()\n",
    "    text = re.sub(r'[^a-z\\s]','',text)\n",
    "    tokens = word_tokenize(text)\n",
    "    filtered_tokens = [word for word in tokens if word not in stop_words]\n",
    "    cleaned_text =' '.join(filtered_tokens)\n",
    "    return cleaned_text\n",
    "\n",
    "cleaned_reviews=reviews.apply(preprocess_text)\n",
    "print(cleaned_reviews.head())"
   ]
  },
  {
   "cell_type": "code",
   "execution_count": 8,
   "id": "6dd3e0e1",
   "metadata": {},
   "outputs": [
    {
     "name": "stdout",
     "output_type": "stream",
     "text": [
      "                                                Text  \\\n",
      "0  I have bought several of the Vitality canned d...   \n",
      "1  Product arrived labeled as Jumbo Salted Peanut...   \n",
      "2  This is a confection that has been around a fe...   \n",
      "3  If you are looking for the secret ingredient i...   \n",
      "4  Great taffy at a great price.  There was a wid...   \n",
      "\n",
      "                                        cleaned_text  \n",
      "0  bought several vitality canned dog food produc...  \n",
      "1  product arrived labeled jumbo salted peanutsth...  \n",
      "2  confection around centuries light pillowy citr...  \n",
      "3  looking secret ingredient robitussin believe f...  \n",
      "4  great taffy great price wide assortment yummy ...  \n"
     ]
    }
   ],
   "source": [
    "df['cleaned_text'] = df['Text'].apply(preprocess_text)\n",
    "print(df[['Text', 'cleaned_text']].head())"
   ]
  },
  {
   "cell_type": "code",
   "execution_count": 9,
   "id": "0fb97707",
   "metadata": {},
   "outputs": [
    {
     "name": "stdout",
     "output_type": "stream",
     "text": [
      "TF-IDF matrix shape: (10000, 23530)\n"
     ]
    }
   ],
   "source": [
    "from sklearn.feature_extraction.text import TfidfVectorizer\n",
    "vectorizer = TfidfVectorizer()\n",
    "tfidf_matrix = vectorizer.fit_transform(cleaned_reviews)\n",
    "print(f\"TF-IDF matrix shape: {tfidf_matrix.shape}\")\n"
   ]
  },
  {
   "cell_type": "code",
   "execution_count": 10,
   "id": "5a5a2526",
   "metadata": {},
   "outputs": [],
   "source": [
    "from sklearn.metrics.pairwise import cosine_similarity\n",
    "\n",
    "def retrieve_reviews(query, top_k=5):\n",
    "    query_cleaned = preprocess_text(query)\n",
    "    query_vec = vectorizer.transform([query_cleaned])\n",
    "    similarities = cosine_similarity(query_vec, tfidf_matrix).flatten()\n",
    "    top_indices = similarities.argsort()[-top_k:][::-1]\n",
    "    print(f\"\\nTop {top_k} matching reviews for query: \\\"{query}\\\"\\n\")\n",
    "    for i in top_indices:\n",
    "        print(f\"Review #{i+1} | Similarity Score: {similarities[i]:.4f}\")\n",
    "        print(\"Original:\", reviews.iloc[i][:300])\n",
    "        print(\"Cleaned :\", cleaned_reviews.iloc[i][:300])\n",
    "        print('-' * 100)"
   ]
  },
  {
   "cell_type": "code",
   "execution_count": 11,
   "id": "41ec00ba",
   "metadata": {},
   "outputs": [
    {
     "name": "stdout",
     "output_type": "stream",
     "text": [
      "\n",
      "Top 5 matching reviews for query: \"great product with fast shipping\"\n",
      "\n",
      "Review #5227 | Similarity Score: 0.5024\n",
      "Original: Enjoyed the product and they also provided very fast shipping.  I'm about out and need to order more.\n",
      "Cleaned : enjoyed product also provided fast shipping im need order\n",
      "----------------------------------------------------------------------------------------------------\n",
      "Review #8022 | Similarity Score: 0.4439\n",
      "Original: The tea is good and fresh. We enjoy it. The shipping is fast and cost is reasonable.<br />I recommend this product.\n",
      "Cleaned : tea good fresh enjoy shipping fast cost reasonablebr recommend product\n",
      "----------------------------------------------------------------------------------------------------\n",
      "Review #7074 | Similarity Score: 0.4057\n",
      "Original: My daughter lives in Hawaii and sent me some great coffee from there. I have a Keurig and  was not sure how to use the new coffee. I got these fast fast and now am using my Hawaiian coffee. Great product.\n",
      "Cleaned : daughter lives hawaii sent great coffee keurig sure use new coffee got fast fast using hawaiian coffee great product\n",
      "----------------------------------------------------------------------------------------------------\n",
      "Review #6035 | Similarity Score: 0.4031\n",
      "Original: The energy drink is a great product. The shipping price is crazy tho. I paid more for the shipping then both products together, so not a great deal.\n",
      "Cleaned : energy drink great product shipping price crazy tho paid shipping products together great deal\n",
      "----------------------------------------------------------------------------------------------------\n",
      "Review #9879 | Similarity Score: 0.3903\n",
      "Original: Fast shipping, items were packaged nicely and are as described. Also, very tasty :) Highly recommend this product to anyone looking to buy.\n",
      "Cleaned : fast shipping items packaged nicely described also tasty highly recommend product anyone looking buy\n",
      "----------------------------------------------------------------------------------------------------\n",
      "\n",
      "Top 5 matching reviews for query: \"disappointed\"\n",
      "\n",
      "Review #3152 | Similarity Score: 0.4850\n",
      "Original: I am a bit disappointed.  The flavor was not what I wanted or expected.\n",
      "Cleaned : bit disappointed flavor wanted expected\n",
      "----------------------------------------------------------------------------------------------------\n",
      "Review #4379 | Similarity Score: 0.3568\n",
      "Original: The product is very good. Way too expensive and at almost 5.00 a box to get pancakes or biscuits I was disappointed\n",
      "Cleaned : product good way expensive almost box get pancakes biscuits disappointed\n",
      "----------------------------------------------------------------------------------------------------\n",
      "Review #6549 | Similarity Score: 0.3208\n",
      "Original: Disappointed.  The big boxes had a very different flavor than the smaller boxes.  I am not sure why but not good.\n",
      "Cleaned : disappointed big boxes different flavor smaller boxes sure good\n",
      "----------------------------------------------------------------------------------------------------\n",
      "Review #3334 | Similarity Score: 0.3114\n",
      "Original: Just plain nasty!!! This item tasted like cardboard, very watered down and no flavor to it at all.  Very disappointed\n",
      "Cleaned : plain nasty item tasted like cardboard watered flavor disappointed\n",
      "----------------------------------------------------------------------------------------------------\n",
      "Review #8005 | Similarity Score: 0.3081\n",
      "Original: this stuff really works, i love it and cant get enough.  It tastes amazing  Highly recommend trying it, you wont be disappointed!!\n",
      "Cleaned : stuff really works love cant get enough tastes amazing highly recommend trying wont disappointed\n",
      "----------------------------------------------------------------------------------------------------\n"
     ]
    }
   ],
   "source": [
    "retrieve_reviews(\"great product with fast shipping\")\n",
    "retrieve_reviews(\"disappointed\")\n"
   ]
  },
  {
   "cell_type": "code",
   "execution_count": null,
   "id": "39617922",
   "metadata": {},
   "outputs": [],
   "source": []
  }
 ],
 "metadata": {
  "kernelspec": {
   "display_name": "Python 3 (ipykernel)",
   "language": "python",
   "name": "python3"
  },
  "language_info": {
   "codemirror_mode": {
    "name": "ipython",
    "version": 3
   },
   "file_extension": ".py",
   "mimetype": "text/x-python",
   "name": "python",
   "nbconvert_exporter": "python",
   "pygments_lexer": "ipython3",
   "version": "3.9.12"
  }
 },
 "nbformat": 4,
 "nbformat_minor": 5
}
