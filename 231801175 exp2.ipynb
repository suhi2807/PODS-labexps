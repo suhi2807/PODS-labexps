{
 "cells": [
  {
   "cell_type": "code",
   "execution_count": null,
   "id": "0e274b55-3222-4065-a66d-e5d0137c67a7",
   "metadata": {},
   "outputs": [],
   "source": [
    "import pandas as pd\n",
    "import seaborn as sns\n",
    "import matplotlib.pyplot as plt\n",
    "from sklearn.impute import SimpleImputer\n",
    "from sklearn.model_selection import train_test_split\n",
    "\n",
    "# 1. Load the dataset\n",
    "df = pd.read_csv('titanic.csv')\n",
    "\n",
    "# 2. Understand the data\n",
    "print(\"Shape of Data:\", df.shape)\n",
    "print(\"\\nInfo:\")\n",
    "print(df.info())\n",
    "print(\"\\nDescribe:\")\n",
    "print(df.describe(include='all'))\n",
    "\n",
    "# 3. Fill missing Age using SimpleImputer\n",
    "age_imputer = SimpleImputer(strategy='mean')\n",
    "df['Age'] = age_imputer.fit_transform(df[['Age']])\n",
    "\n",
    "# 4. Fill missing Cabin with \"Unknown\"\n",
    "df['ticket'] = df['ticket'].fillna('ticket')\n",
    "\n",
    "# 5. Fill missing Embarked with mode\n",
    "df['Embarked'] = df['Embarked'].fillna(df['Embarked'].mode()[0])\n",
    "\n",
    "# 6. Analyse passenger Class using countplot\n",
    "sns.countplot(x='Pclass', data=df)\n",
    "plt.title('Passenger Class Distribution')\n",
    "plt.xlabel('Class')\n",
    "plt.ylabel('Count')\n",
    "plt.show()\n",
    "\n",
    "# 7. Female passengers who survived\n",
    "female_survivors = df[(df['Sex'] == 'female') & (df['Survived'] == 1)]\n",
    "print(\"\\nFemale passengers who survived:\")\n",
    "print(female_survivors[['Name', 'Survived']])\n",
    "\n",
    "# 8. Passengers in 3rd class and under 18\n",
    "third_class_under_18 = df[(df['Pclass'] == 3) & (df['Age'] < 18)]\n",
    "print(\"\\n3rd Class passengers under age 18:\")\n",
    "print(third_class_under_18[['Name', 'Age', 'Pclass']])\n",
    "\n",
    "# 9. Passengers in 1st class and older than 40\n",
    "class1_above_40 = df[(df['Pclass'] == 1) & (df['Age'] > 40)]\n",
    "print(\"\\nClass 1 passengers older than 40:\")\n",
    "print(class1_above_40[['Name', 'Age', 'Pclass']])\n",
    "\n",
    "# 10. Survived passengers in above category\n",
    "survived_class1_above_40 = class1_above_40[class1_above_40['Survived'] == 1]\n",
    "print(\"\\nSurvived Class 1 passengers older than 40:\")\n",
    "print(survived_class1_above_40[['Name', 'Age', 'Survived']])\n",
    "\n",
    "# 11. Male passengers who paid fare > 100\n",
    "males_paid_over_100 = df[(df['Sex'] == 'male') & (df['Fare'] > 100)]\n",
    "print(\"\\nMale passengers who paid fare > 100:\")\n",
    "print(males_paid_over_100[['Name', 'Fare', 'Sex']])\n",
    "\n",
    "# 12. Passengers who embarked from 'C' and were in Class 2\n",
    "embarked_c_class2 = df[(df['Embarked'] == 'C') & (df['Pclass'] == 2)]\n",
    "print(\"\\nPassengers embarked from 'C' and in Class 2:\")\n",
    "print(embarked_c_class2[['Name', 'Embarked', 'Pclass']])\n",
    "\n",
    "# 13. Passengers with more than 2 siblings/spouses aboard\n",
    "more_than_2_sibsp = df[df['SibSp'] > 2]\n",
    "print(\"\\nPassengers with SibSp > 2:\")\n",
    "print(more_than_2_sibsp[['Name', 'SibSp']])\n",
    "\n",
    "# 14. Passengers who did not survive and had no family aboard\n",
    "no_family_not_survived = df[(df['Survived'] == 0) & (df['SibSp'] == 0) & (df['Parch'] == 0)]\n",
    "print(\"\\nPassengers who did not survive and had no family aboard:\")\n",
    "print(no_family_not_survived[['Name', 'Survived', 'SibSp', 'Parch']])\n",
    "\n",
    "# 15. Top 5 oldest passengers who survived\n",
    "oldest_survivors = df[df['Survived'] == 1].sort_values(by='Age', ascending=False).head(5)\n",
    "print(\"\\nTop 5 oldest passengers who survived:\")\n",
    "print(oldest_survivors[['Name', 'Age', 'Survived']])\n",
    "\n",
    "# 16. Passengers who paid zero fare\n",
    "zero_fare_passengers = df[df['Fare'] == 0]\n",
    "print(\"\\nPassengers who paid zero fare:\")\n",
    "print(zero_fare_passengers[['Name', 'Fare']])\n",
    "\n",
    "# 17. Split dataset for training and testing\n",
    "# Drop columns not needed for ML model (example)\n",
    "X = df.drop(columns=['Survived', 'Name', 'Ticket', 'Cabin'])  # drop text-heavy or irrelevant\n",
    "X = pd.get_dummies(X, drop_first=True)  # convert categorical to numerical\n",
    "y = df['Survived']\n",
    "\n",
    "X_train, X_test, y_train, y_test = train_test_split(X, y, test_size=0.2, random_state=42)\n",
    "print(\"\\nTraining set shape:\", X_train.shape)\n",
    "print(\"Test set shape:\", X_test.shape)\n"
   ]
  },
  {
   "cell_type": "code",
   "execution_count": 1,
   "id": "d9ec78fb-8c11-4aec-ac7f-28fb5d8ad3c4",
   "metadata": {},
   "outputs": [],
   "source": [
    "import pandas as pd\n",
    "import seaborn as sns\n",
    "import matplotlib.pyplot as plt\n",
    "from sklearn.impute import SimpleImputer\n",
    "from sklearn.model_selection import train_test_split"
   ]
  },
  {
   "cell_type": "code",
   "execution_count": 19,
   "id": "d8c440e2-4dfb-4ac4-bbbc-2ea3c86b31bb",
   "metadata": {},
   "outputs": [],
   "source": [
    "df = pd.read_csv(r'C:\\Users\\Tcs\\Downloads\\Titanic.csv')\n"
   ]
  },
  {
   "cell_type": "code",
   "execution_count": 21,
   "id": "ad5496ed-03d9-4a90-abec-067b498b1bf2",
   "metadata": {},
   "outputs": [
    {
     "name": "stdout",
     "output_type": "stream",
     "text": [
      "Shape of Data: (1000, 11)\n",
      "\n",
      "Info:\n",
      "<class 'pandas.core.frame.DataFrame'>\n",
      "RangeIndex: 1000 entries, 0 to 999\n",
      "Data columns (total 11 columns):\n",
      " #   Column       Non-Null Count  Dtype  \n",
      "---  ------       --------------  -----  \n",
      " 0   PassengerId  1000 non-null   int64  \n",
      " 1   Pclass       1000 non-null   int64  \n",
      " 2   Name         1000 non-null   object \n",
      " 3   Sex          1000 non-null   object \n",
      " 4   Age          1000 non-null   int64  \n",
      " 5   SibSp        1000 non-null   int64  \n",
      " 6   Parch        1000 non-null   int64  \n",
      " 7   Ticket       1000 non-null   object \n",
      " 8   Fare         1000 non-null   float64\n",
      " 9   Embarked     1000 non-null   object \n",
      " 10  Survived     1000 non-null   int64  \n",
      "dtypes: float64(1), int64(6), object(4)\n",
      "memory usage: 86.1+ KB\n",
      "None\n",
      "\n",
      "Describe:\n",
      "        PassengerId       Pclass            Name   Sex          Age  \\\n",
      "count   1000.000000  1000.000000            1000  1000  1000.000000   \n",
      "unique          NaN          NaN             995     2          NaN   \n",
      "top             NaN          NaN  Michael Miller  male          NaN   \n",
      "freq            NaN          NaN               2   527          NaN   \n",
      "mean     500.500000     1.964000             NaN   NaN    38.458000   \n",
      "std      288.819436     0.820596             NaN   NaN    23.103723   \n",
      "min        1.000000     1.000000             NaN   NaN     1.000000   \n",
      "25%      250.750000     1.000000             NaN   NaN    19.000000   \n",
      "50%      500.500000     2.000000             NaN   NaN    36.500000   \n",
      "75%      750.250000     3.000000             NaN   NaN    59.000000   \n",
      "max     1000.000000     3.000000             NaN   NaN    79.000000   \n",
      "\n",
      "              SibSp        Parch                                Ticket  \\\n",
      "count   1000.000000  1000.000000                                  1000   \n",
      "unique          NaN          NaN                                  1000   \n",
      "top             NaN          NaN  43d75413-a939-4bd1-a516-b0d47d3572cc   \n",
      "freq            NaN          NaN                                     1   \n",
      "mean       2.032000     2.005000                                   NaN   \n",
      "std        1.424431     1.410306                                   NaN   \n",
      "min        0.000000     0.000000                                   NaN   \n",
      "25%        1.000000     1.000000                                   NaN   \n",
      "50%        2.000000     2.000000                                   NaN   \n",
      "75%        3.000000     3.000000                                   NaN   \n",
      "max        4.000000     4.000000                                   NaN   \n",
      "\n",
      "               Fare Embarked     Survived  \n",
      "count   1000.000000     1000  1000.000000  \n",
      "unique          NaN        3          NaN  \n",
      "top             NaN        Q          NaN  \n",
      "freq            NaN      362          NaN  \n",
      "mean     247.968650      NaN     0.492000  \n",
      "std      139.301211      NaN     0.500186  \n",
      "min       10.020000      NaN     0.000000  \n",
      "25%      126.295000      NaN     0.000000  \n",
      "50%      246.500000      NaN     0.000000  \n",
      "75%      365.662500      NaN     1.000000  \n",
      "max      499.780000      NaN     1.000000  \n"
     ]
    }
   ],
   "source": [
    "print(\"Shape of Data:\", df.shape)\n",
    "print(\"\\nInfo:\")\n",
    "print(df.info())\n",
    "print(\"\\nDescribe:\")\n",
    "print(df.describe(include='all'))"
   ]
  },
  {
   "cell_type": "code",
   "execution_count": 25,
   "id": "1ad8fa63-e562-4762-8739-5915394781c5",
   "metadata": {},
   "outputs": [],
   "source": [
    "age_imputer = SimpleImputer(strategy='mean')\n",
    "df['Age'] = age_imputer.fit_transform(df[['Age']])"
   ]
  },
  {
   "cell_type": "code",
   "execution_count": 29,
   "id": "04ea84eb-00b9-4a39-bf97-36d7fc565a5d",
   "metadata": {},
   "outputs": [
    {
     "name": "stdout",
     "output_type": "stream",
     "text": [
      "Index(['PassengerId', 'Pclass', 'Name', 'Sex', 'Age', 'SibSp', 'Parch',\n",
      "       'Ticket', 'Fare', 'Embarked', 'Survived'],\n",
      "      dtype='object')\n"
     ]
    }
   ],
   "source": [
    "print(df.columns)\n",
    "\n"
   ]
  },
  {
   "cell_type": "code",
   "execution_count": 35,
   "id": "0d35cda4-8060-4e13-9119-a582eb2d8384",
   "metadata": {},
   "outputs": [],
   "source": [
    "df['Ticket'] = df['Ticket'].fillna('Ticket')"
   ]
  },
  {
   "cell_type": "code",
   "execution_count": 37,
   "id": "c60ba8b7-b7b8-496f-94ce-c60f98cda46f",
   "metadata": {},
   "outputs": [],
   "source": [
    "df['Embarked'] = df['Embarked'].fillna(df['Embarked'].mode()[0])"
   ]
  },
  {
   "cell_type": "code",
   "execution_count": 39,
   "id": "b34042a2-d336-4d22-add0-818891b4a807",
   "metadata": {},
   "outputs": [
    {
     "data": {
      "image/png": "[encoded data removed]",
      "text/plain": [
       "<Figure size 640x480 with 1 Axes>"
      ]
     },
     "metadata": {},
     "output_type": "display_data"
    }
   ],
   "source": [
    "sns.countplot(x='Pclass', data=df)\n",
    "plt.title('Passenger Class Distribution')\n",
    "plt.xlabel('Class')\n",
    "plt.ylabel('Count')\n",
    "plt.show()"
   ]
  },
  {
   "cell_type": "code",
   "execution_count": 41,
   "id": "6c0217d0-c978-4769-b59f-724dd28c4df3",
   "metadata": {},
   "outputs": [
    {
     "name": "stdout",
     "output_type": "stream",
     "text": [
      "\n",
      "Female passengers who survived:\n",
      "                     Name  Survived\n",
      "4         Cristian Santos         1\n",
      "6         Abigail Shaffer         1\n",
      "9              Ryan Munoz         1\n",
      "12           Lisa Hensley         1\n",
      "20   Margaret Hawkins DDS         1\n",
      "..                    ...       ...\n",
      "982         Joshua Garcia         1\n",
      "988          Anna Wheeler         1\n",
      "991          Brian Harris         1\n",
      "993      Deborah Campbell         1\n",
      "994     Anthony Armstrong         1\n",
      "\n",
      "[229 rows x 2 columns]\n"
     ]
    }
   ],
   "source": [
    "female_survivors = df[(df['Sex'] == 'female') & (df['Survived'] == 1)]\n",
    "print(\"\\nFemale passengers who survived:\")\n",
    "print(female_survivors[['Name', 'Survived']])"
   ]
  },
  {
   "cell_type": "code",
   "execution_count": 43,
   "id": "8986d498-aea1-41b6-9e87-151639a9a0d5",
   "metadata": {},
   "outputs": [
    {
     "name": "stdout",
     "output_type": "stream",
     "text": [
      "\n",
      "3rd Class passengers under age 18:\n",
      "                  Name   Age  Pclass\n",
      "0         Allison Hill  17.0       3\n",
      "34      Debra Davidson   7.0       3\n",
      "36        Sherri Baker  11.0       3\n",
      "55       Michael Lewis   2.0       3\n",
      "70    Jordan Henderson   3.0       3\n",
      "..                 ...   ...     ...\n",
      "932       Joel Jackson  10.0       3\n",
      "950      Rebecca Kelly   3.0       3\n",
      "953      Alyssa Haynes   4.0       3\n",
      "993   Deborah Campbell   9.0       3\n",
      "997  Christina Johnson  10.0       3\n",
      "\n",
      "[75 rows x 3 columns]\n"
     ]
    }
   ],
   "source": [
    "third_class_under_18 = df[(df['Pclass'] == 3) & (df['Age'] < 18)]\n",
    "print(\"\\n3rd Class passengers under age 18:\")\n",
    "print(third_class_under_18[['Name', 'Age', 'Pclass']])"
   ]
  },
  {
   "cell_type": "code",
   "execution_count": 45,
   "id": "eb65bd47-ce9f-4e53-a8b6-b010fd6be30e",
   "metadata": {},
   "outputs": [
    {
     "name": "stdout",
     "output_type": "stream",
     "text": [
      "\n",
      "Class 1 passengers older than 40:\n",
      "                 Name   Age  Pclass\n",
      "1         Noah Rhodes  60.0       1\n",
      "4     Cristian Santos  70.0       1\n",
      "25         Judy Baker  50.0       1\n",
      "43   Anthony Humphrey  58.0       1\n",
      "53         Mark Perez  75.0       1\n",
      "..                ...   ...     ...\n",
      "963        Tom Foster  63.0       1\n",
      "974     Taylor Taylor  55.0       1\n",
      "975      Cynthia Haas  55.0       1\n",
      "981     Stacey Snyder  45.0       1\n",
      "984       Carla Jones  70.0       1\n",
      "\n",
      "[162 rows x 3 columns]\n"
     ]
    }
   ],
   "source": [
    "class1_above_40 = df[(df['Pclass'] == 1) & (df['Age'] > 40)]\n",
    "print(\"\\nClass 1 passengers older than 40:\")\n",
    "print(class1_above_40[['Name', 'Age', 'Pclass']])"
   ]
  },
  {
   "cell_type": "code",
   "execution_count": 47,
   "id": "e02d53ac-9714-4629-bdd0-48d5e3a49ad1",
   "metadata": {},
   "outputs": [
    {
     "name": "stdout",
     "output_type": "stream",
     "text": [
      "\n",
      "Survived Class 1 passengers older than 40:\n",
      "                 Name   Age  Survived\n",
      "4     Cristian Santos  70.0         1\n",
      "53         Mark Perez  75.0         1\n",
      "57    Richard Aguirre  78.0         1\n",
      "69      William Baker  69.0         1\n",
      "95     Anna Henderson  71.0         1\n",
      "..                ...   ...       ...\n",
      "917  Christine Parker  54.0         1\n",
      "927  Jacqueline Mccoy  56.0         1\n",
      "952       Renee Wolfe  55.0         1\n",
      "963        Tom Foster  63.0         1\n",
      "984       Carla Jones  70.0         1\n",
      "\n",
      "[77 rows x 3 columns]\n"
     ]
    }
   ],
   "source": [
    "survived_class1_above_40 = class1_above_40[class1_above_40['Survived'] == 1]\n",
    "print(\"\\nSurvived Class 1 passengers older than 40:\")\n",
    "print(survived_class1_above_40[['Name', 'Age', 'Survived']])"
   ]
  },
  {
   "cell_type": "code",
   "execution_count": 49,
   "id": "7ea28f88-e0ba-4347-826d-b9547d23317c",
   "metadata": {},
   "outputs": [
    {
     "name": "stdout",
     "output_type": "stream",
     "text": [
      "\n",
      "Male passengers who paid fare > 100:\n",
      "                  Name    Fare   Sex\n",
      "0         Allison Hill  144.08  male\n",
      "1          Noah Rhodes  249.04  male\n",
      "3        Daniel Wagner  235.20  male\n",
      "5      Connie Lawrence  412.97  male\n",
      "8      Gabrielle Davis  234.63  male\n",
      "..                 ...     ...   ...\n",
      "989      Karen Johnson  407.81  male\n",
      "992      Michael Bowen  337.75  male\n",
      "997  Christina Johnson  444.22  male\n",
      "998       Edgar Miller  234.67  male\n",
      "999  Elizabeth Sanders  286.65  male\n",
      "\n",
      "[433 rows x 3 columns]\n"
     ]
    }
   ],
   "source": [
    "males_paid_over_100 = df[(df['Sex'] == 'male') & (df['Fare'] > 100)]\n",
    "print(\"\\nMale passengers who paid fare > 100:\")\n",
    "print(males_paid_over_100[['Name', 'Fare', 'Sex']])"
   ]
  },
  {
   "cell_type": "code",
   "execution_count": 51,
   "id": "1406cf43-674c-491e-99be-e96a4a94a4c9",
   "metadata": {},
   "outputs": [
    {
     "name": "stdout",
     "output_type": "stream",
     "text": [
      "\n",
      "Passengers embarked from 'C' and in Class 2:\n",
      "                  Name Embarked  Pclass\n",
      "14        Dylan Miller        C       2\n",
      "16          Holly Wood        C       2\n",
      "19          Carla Gray        C       2\n",
      "22         Ethan Adams        C       2\n",
      "23        Tommy Walter        C       2\n",
      "..                 ...      ...     ...\n",
      "965      Travis Conner        C       2\n",
      "969        Eric Barker        C       2\n",
      "978       Derek Wright        C       2\n",
      "994  Anthony Armstrong        C       2\n",
      "996     Edward Stanley        C       2\n",
      "\n",
      "[101 rows x 3 columns]\n"
     ]
    }
   ],
   "source": [
    "embarked_c_class2 = df[(df['Embarked'] == 'C') & (df['Pclass'] == 2)]\n",
    "print(\"\\nPassengers embarked from 'C' and in Class 2:\")\n",
    "print(embarked_c_class2[['Name', 'Embarked', 'Pclass']])"
   ]
  },
  {
   "cell_type": "code",
   "execution_count": 53,
   "id": "ba47adf6-2a1e-44b8-9881-4f38a1643902",
   "metadata": {},
   "outputs": [
    {
     "name": "stdout",
     "output_type": "stream",
     "text": [
      "\n",
      "Passengers with SibSp > 2:\n",
      "                  Name  SibSp\n",
      "0         Allison Hill      4\n",
      "3        Daniel Wagner      4\n",
      "6      Abigail Shaffer      4\n",
      "8      Gabrielle Davis      4\n",
      "14        Dylan Miller      4\n",
      "..                 ...    ...\n",
      "993   Deborah Campbell      4\n",
      "996     Edward Stanley      4\n",
      "997  Christina Johnson      4\n",
      "998       Edgar Miller      3\n",
      "999  Elizabeth Sanders      3\n",
      "\n",
      "[418 rows x 2 columns]\n"
     ]
    }
   ],
   "source": [
    "more_than_2_sibsp = df[df['SibSp'] > 2]\n",
    "print(\"\\nPassengers with SibSp > 2:\")\n",
    "print(more_than_2_sibsp[['Name', 'SibSp']])"
   ]
  },
  {
   "cell_type": "code",
   "execution_count": 55,
   "id": "0682df36-975e-4012-a6c9-bc17fcd0662c",
   "metadata": {},
   "outputs": [
    {
     "name": "stdout",
     "output_type": "stream",
     "text": [
      "\n",
      "Passengers who did not survive and had no family aboard:\n",
      "                  Name  Survived  SibSp  Parch\n",
      "144       Amber Wright         0      0      0\n",
      "202  Elizabeth Perkins         0      0      0\n",
      "226        Kirk Carter         0      0      0\n",
      "241       Matthew Moon         0      0      0\n",
      "253     Barbara Dudley         0      0      0\n",
      "276       Wayne Morgan         0      0      0\n",
      "422   Michael Mitchell         0      0      0\n",
      "431         Jack White         0      0      0\n",
      "438      Rhonda Martin         0      0      0\n",
      "462       Riley Bryant         0      0      0\n",
      "469  Jeanette Harrison         0      0      0\n",
      "507          Emma Reed         0      0      0\n",
      "534   Anthony Gonzales         0      0      0\n",
      "541         Sean Moore         0      0      0\n",
      "561       Kim Erickson         0      0      0\n",
      "639     Janet Kane DVM         0      0      0\n",
      "675       Larry Harris         0      0      0\n",
      "775  Christopher Moore         0      0      0\n",
      "944   Francis Robinson         0      0      0\n"
     ]
    }
   ],
   "source": [
    "no_family_not_survived = df[(df['Survived'] == 0) & (df['SibSp'] == 0) & (df['Parch'] == 0)]\n",
    "print(\"\\nPassengers who did not survive and had no family aboard:\")\n",
    "print(no_family_not_survived[['Name', 'Survived', 'SibSp', 'Parch']])"
   ]
  },
  {
   "cell_type": "code",
   "execution_count": 57,
   "id": "a5e5991a-50f8-4515-8450-f51eb813adfa",
   "metadata": {},
   "outputs": [
    {
     "name": "stdout",
     "output_type": "stream",
     "text": [
      "\n",
      "Top 5 oldest passengers who survived:\n",
      "                    Name   Age  Survived\n",
      "731      Alexander Gomez  79.0         1\n",
      "673       Timothy Hayden  79.0         1\n",
      "300  Tanner Mitchell DDS  79.0         1\n",
      "232   Christopher Parker  79.0         1\n",
      "876        Michael Miles  79.0         1\n"
     ]
    }
   ],
   "source": [
    "oldest_survivors = df[df['Survived'] == 1].sort_values(by='Age', ascending=False).head(5)\n",
    "print(\"\\nTop 5 oldest passengers who survived:\")\n",
    "print(oldest_survivors[['Name', 'Age', 'Survived']])"
   ]
  },
  {
   "cell_type": "code",
   "execution_count": 59,
   "id": "06ea4b0d-94a1-45c6-b405-3a5022b1ec53",
   "metadata": {},
   "outputs": [
    {
     "name": "stdout",
     "output_type": "stream",
     "text": [
      "\n",
      "Passengers who paid zero fare:\n",
      "Empty DataFrame\n",
      "Columns: [Name, Fare]\n",
      "Index: []\n"
     ]
    }
   ],
   "source": [
    "zero_fare_passengers = df[df['Fare'] == 0]\n",
    "print(\"\\nPassengers who paid zero fare:\")\n",
    "print(zero_fare_passengers[['Name', 'Fare']])"
   ]
  },
  {
   "cell_type": "code",
   "execution_count": 63,
   "id": "fc49042e-13f8-4fcb-8d8e-914dd77351c0",
   "metadata": {},
   "outputs": [],
   "source": [
    "X = df.drop(columns=['Survived', 'Name', 'Ticket'])  # drop text-heavy or irrelevant\n",
    "X = pd.get_dummies(X, drop_first=True)  # convert categorical to numerical\n",
    "y = df['Survived']"
   ]
  },
  {
   "cell_type": "code",
   "execution_count": null,
   "id": "6610325b-7d0d-4ec3-afba-61edb97043c2",
   "metadata": {},
   "outputs": [],
   "source": []
  }
 ],
 "metadata": {
  "kernelspec": {
   "display_name": "Python 3 (ipykernel)",
   "language": "python",
   "name": "python3"
  },
  "language_info": {
   "codemirror_mode": {
    "name": "ipython",
    "version": 3
   },
   "file_extension": ".py",
   "mimetype": "text/x-python",
   "name": "python",
   "nbconvert_exporter": "python",
   "pygments_lexer": "ipython3",
   "version": "3.12.4"
  }
 },
 "nbformat": 4,
 "nbformat_minor": 5
}
