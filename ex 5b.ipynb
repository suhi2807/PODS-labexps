{
 "cells": [
  {
   "cell_type": "code",
   "execution_count": 11,
   "id": "91061fd9-3b20-43cd-a998-3a6953201329",
   "metadata": {},
   "outputs": [],
   "source": [
    "import pandas as pd\n",
    "import spacy\n",
    "import nltk\n",
    "import string\n",
    "from nltk.corpus import stopwords\n",
    "from nltk.tokenize import word_tokenize\n"
   ]
  },
  {
   "cell_type": "code",
   "execution_count": 13,
   "id": "3692a243-c300-4679-9508-73e974cd8933",
   "metadata": {},
   "outputs": [
    {
     "name": "stdout",
     "output_type": "stream",
     "text": [
      "Number of reviews: 10000\n",
      "Sample reviews:\n",
      " 0    I have bought several of the Vitality canned d...\n",
      "1    Product arrived labeled as Jumbo Salted Peanut...\n",
      "2    This is a confection that has been around a fe...\n",
      "3    If you are looking for the secret ingredient i...\n",
      "4    Great taffy at a great price.  There was a wid...\n",
      "Name: Text, dtype: object\n"
     ]
    }
   ],
   "source": [
    "df = pd.read_csv(\"Reviews.csv\")\n",
    "reviews = df[\"Text\"]\n",
    "reviews = reviews.dropna()\n",
    "reviews = reviews[:10000]\n",
    "print(\"Number of reviews:\", len(reviews))\n",
    "print(\"Sample reviews:\\n\", reviews.head())"
   ]
  },
  {
   "cell_type": "code",
   "execution_count": 15,
   "id": "9a92f8e8-1cd0-4911-bebd-e58d2dfdc46a",
   "metadata": {},
   "outputs": [],
   "source": [
    "def preprocess_text(text):\n",
    "    text = text.lower()\n",
    "    text = text.translate(str.maketrans(\"\", \"\", string.punctuation))\n",
    "    return text\n",
    "reviews = reviews.apply(preprocess_text)"
   ]
  },
  {
   "cell_type": "code",
   "execution_count": 23,
   "id": "76ef8d46-13d9-4248-a133-2fbc223c1a78",
   "metadata": {},
   "outputs": [
    {
     "name": "stdout",
     "output_type": "stream",
     "text": [
      "POS Tagging Example:\n",
      "i -> PRON\n",
      "have -> AUX\n",
      "bought -> VERB\n",
      "several -> ADJ\n",
      "of -> ADP\n",
      "the -> DET\n",
      "vitality -> NOUN\n",
      "canned -> VERB\n",
      "dog -> NOUN\n",
      "food -> NOUN\n",
      "products -> NOUN\n",
      "and -> CCONJ\n",
      "have -> AUX\n",
      "found -> VERB\n",
      "them -> PRON\n",
      "all -> PRON\n",
      "to -> PART\n",
      "be -> AUX\n",
      "of -> ADP\n",
      "good -> ADJ\n"
     ]
    }
   ],
   "source": [
    "nlp = spacy.load(\"en_core_web_sm\")\n",
    "sample_text = reviews.iloc[0]\n",
    "doc = nlp(sample_text)\n",
    "print(\"POS Tagging Example:\")\n",
    "for token in doc[:20]:\n",
    "    print(token.text, \"->\", token.pos_)\n"
   ]
  },
  {
   "cell_type": "code",
   "execution_count": 27,
   "id": "6f584cc0-4d84-41de-9f90-43fe00d312d2",
   "metadata": {},
   "outputs": [
    {
     "name": "stdout",
     "output_type": "stream",
     "text": [
      "\n",
      "Review 3: this is a confection that has been around a few centuries  it is a light pillowy citrus gelatin with nuts  in this case filberts and it is cut into tiny squares and then liberally coated with powdered sugar  and it is a tiny mouthful of heaven  not too chewy and very flavorful  i highly recommend this yummy treat  if you are familiar with the story of cs lewis the lion the witch and the wardrobe  this is the treat that seduces edmund into selling out his brother and sisters to the witch\n",
      "Named Entities:\n",
      "  around a few centuries -> DATE\n",
      "\n",
      "Review 6: i got a wild hair for taffy and ordered this five pound bag the taffy was all very enjoyable with many flavors watermelon root beer melon peppermint grape etc my only complaint is there was a bit too much redblack licoriceflavored pieces just not my particular favorites between me my kids and my husband this lasted only two weeks i would recommend this brand of taffy  it was a delightful treat\n",
      "Named Entities:\n",
      "  five pound -> QUANTITY\n",
      "  only two weeks -> DATE\n",
      "\n",
      "Review 12: one of my boys needed to lose some weight and the other didnt  i put this food on the floor for the chubby guy and the proteinrich no byproduct food up higher where only my skinny boy can jump  the higher food sits going stale  they both really go for this food  and my chubby boy has been losing about an ounce a week\n",
      "Named Entities:\n",
      "  one -> CARDINAL\n",
      "\n",
      "Review 13: my cats have been happily eating felidae platinum for more than two years i just got a new bag and the shape of the food is different they tried the new food when i first put it in their bowls and now the bowls sit full and the kitties will not touch the food ive noticed similar reviews related to formula changes in the past unfortunately i now need to find a new food that my cats will eat\n",
      "Named Entities:\n",
      "  more than two years -> DATE\n",
      "  first -> ORDINAL\n",
      "\n",
      "Review 15: the strawberry twizzlers are my guilty pleasure  yummy six pounds will be around for a while with my son and i\n",
      "Named Entities:\n",
      "  strawberry -> ORG\n",
      "  six pounds -> QUANTITY\n"
     ]
    }
   ],
   "source": [
    "def find_reviews_with_entities(reviews, n=5):\n",
    "    count = 0\n",
    "    for i, review in enumerate(reviews):\n",
    "        doc = nlp(review)\n",
    "        if doc.ents:  \n",
    "            print(f\"\\nReview {i+1}: {review}\")\n",
    "            print(\"Named Entities:\")\n",
    "            for ent in doc.ents:\n",
    "                print(f\"  {ent.text} -> {ent.label_}\")\n",
    "            count += 1\n",
    "        if count >= n:\n",
    "            break\n",
    "find_reviews_with_entities(reviews, n=5)"
   ]
  },
  {
   "cell_type": "code",
   "execution_count": null,
   "id": "5af5066c-ead4-42e3-8d89-884bc5466eeb",
   "metadata": {},
   "outputs": [],
   "source": []
  }
 ],
 "metadata": {
  "kernelspec": {
   "display_name": "Python [conda env:base] *",
   "language": "python",
   "name": "conda-base-py"
  },
  "language_info": {
   "codemirror_mode": {
    "name": "ipython",
    "version": 3
   },
   "file_extension": ".py",
   "mimetype": "text/x-python",
   "name": "python",
   "nbconvert_exporter": "python",
   "pygments_lexer": "ipython3",
   "version": "3.12.7"
  }
 },
 "nbformat": 4,
 "nbformat_minor": 5
}
